{
  "nbformat": 4,
  "nbformat_minor": 0,
  "metadata": {
    "colab": {
      "name": "Named_Entity_Recognition.ipynb",
      "provenance": [],
      "collapsed_sections": [],
      "toc_visible": true
    },
    "kernelspec": {
      "display_name": "Python 3",
      "name": "python3"
    }
  },
  "cells": [
    {
      "cell_type": "markdown",
      "metadata": {
        "id": "jmbsAEvdhBj7"
      },
      "source": [
        "# Named Entity Recognition (NER)\r\n",
        "\r\n",
        "Named-entity recognition (NER) (also known as entity identification, entity chunking and entity extraction) is a subtask of information extraction that seeks to locate and classify named entities mentioned in unstructured text into pre-defined categories such as person names, organizations, locations, medical codes, time expressions, quantities, monetary values, percentages, etc."
      ]
    },
    {
      "cell_type": "code",
      "metadata": {
        "id": "FQcZ42yXhekC"
      },
      "source": [
        "import os \r\n",
        "import numpy as np\r\n",
        "import pandas as pd\r\n",
        "import random as rnd"
      ],
      "execution_count": null,
      "outputs": []
    },
    {
      "cell_type": "code",
      "metadata": {
        "colab": {
          "base_uri": "https://localhost:8080/"
        },
        "id": "qbzsEKBuffi3",
        "outputId": "e14692f5-a2f9-4376-f00a-7c158bc0459e"
      },
      "source": [
        "# display original kaggle data\r\n",
        "data = pd.read_csv(\"/content/drive/MyDrive/Colab Notebooks/Datasets/ner_dataset.csv\", encoding = \"ISO-8859-1\") \r\n",
        "train_sents = open('/content/drive/MyDrive/Colab Notebooks/Datasets/sentences.txt', 'r').readline()\r\n",
        "train_labels = open('/content/drive/MyDrive/Colab Notebooks/Datasets/labels.txt', 'r').readline()\r\n",
        "print('SENTENCE:', train_sents)\r\n",
        "print('SENTENCE LABEL:', train_labels)\r\n",
        "print('ORIGINAL DATA:\\n', data.head(5))"
      ],
      "execution_count": null,
      "outputs": [
        {
          "output_type": "stream",
          "text": [
            "SENTENCE: Thousands of demonstrators have marched through London to protest the war in Iraq and demand the withdrawal of British troops from that country .\n",
            "\n",
            "SENTENCE LABEL: O O O O O O B-geo O O O O O B-geo O O O O O B-gpe O O O O O\n",
            "\n",
            "ORIGINAL DATA:\n",
            "     Sentence #           Word  POS Tag\n",
            "0  Sentence: 1      Thousands  NNS   O\n",
            "1          NaN             of   IN   O\n",
            "2          NaN  demonstrators  NNS   O\n",
            "3          NaN           have  VBP   O\n",
            "4          NaN        marched  VBN   O\n"
          ],
          "name": "stdout"
        }
      ]
    },
    {
      "cell_type": "markdown",
      "metadata": {
        "id": "QNUt3kOpgNNM"
      },
      "source": [
        "## Extract mappings required for the neural network\r\n",
        "\r\n",
        "1. To train a neural network, we will use two mappings as given below.\r\n",
        "{token} to {token id}: address the row in embeddings matrix for the current token.\r\n",
        "\r\n",
        "2. {tag} to {tag id}: one-hot ground truth probability distribution vectors for computing the loss at the network’s output.\r\n",
        "\r\n",
        "This step is desired in any machine learning model, including the neural-network, which requires integers as input."
      ]
    },
    {
      "cell_type": "code",
      "metadata": {
        "id": "XAAN4S8TpDcc"
      },
      "source": [
        "from itertools import chain"
      ],
      "execution_count": null,
      "outputs": []
    },
    {
      "cell_type": "code",
      "metadata": {
        "id": "zbvVfXWVfiMs"
      },
      "source": [
        "def get_dict_map(data,tag_or_token):\r\n",
        "  tok2idx = {}\r\n",
        "  idx2tok = {}\r\n",
        "\r\n",
        "  if tag_or_token == 'token':\r\n",
        "    vocab = list(set(data['Word'].to_list()))\r\n",
        "\r\n",
        "  else:\r\n",
        "    vocab = list(set(data['Tag'].to_list()))\r\n",
        "\r\n",
        "  tok2idx = {tok:idx for idx,tok in enumerate(vocab)}\r\n",
        "  idx2tok = {idx:tok for idx,tok in enumerate(vocab)}\r\n",
        "\r\n",
        "  return tok2idx, idx2tok"
      ],
      "execution_count": null,
      "outputs": []
    },
    {
      "cell_type": "code",
      "metadata": {
        "id": "j3qDmeLsgZmQ"
      },
      "source": [
        "token_to_idx, idx_to_token = get_dict_map(data,'token')"
      ],
      "execution_count": null,
      "outputs": []
    },
    {
      "cell_type": "code",
      "metadata": {
        "id": "cKA83Ac_i3NZ"
      },
      "source": [
        "tag_to_idx, idx_to_tag = get_dict_map(data,'tag')"
      ],
      "execution_count": null,
      "outputs": []
    },
    {
      "cell_type": "code",
      "metadata": {
        "colab": {
          "base_uri": "https://localhost:8080/",
          "height": 204
        },
        "id": "00wZZzAli8x9",
        "outputId": "e389c64e-3ed8-4b3d-f2df-343214d7e2a4"
      },
      "source": [
        "data['Word_to_idx'] = data['Word'].map(token_to_idx)\r\n",
        "\r\n",
        "data['Tag_to_idx'] = data['Tag'].map(tag_to_idx)\r\n",
        "\r\n",
        "data.head()"
      ],
      "execution_count": null,
      "outputs": [
        {
          "output_type": "execute_result",
          "data": {
            "text/html": [
              "<div>\n",
              "<style scoped>\n",
              "    .dataframe tbody tr th:only-of-type {\n",
              "        vertical-align: middle;\n",
              "    }\n",
              "\n",
              "    .dataframe tbody tr th {\n",
              "        vertical-align: top;\n",
              "    }\n",
              "\n",
              "    .dataframe thead th {\n",
              "        text-align: right;\n",
              "    }\n",
              "</style>\n",
              "<table border=\"1\" class=\"dataframe\">\n",
              "  <thead>\n",
              "    <tr style=\"text-align: right;\">\n",
              "      <th></th>\n",
              "      <th>Sentence #</th>\n",
              "      <th>Word</th>\n",
              "      <th>POS</th>\n",
              "      <th>Tag</th>\n",
              "      <th>Word_to_idx</th>\n",
              "      <th>Tag_to_idx</th>\n",
              "    </tr>\n",
              "  </thead>\n",
              "  <tbody>\n",
              "    <tr>\n",
              "      <th>0</th>\n",
              "      <td>Sentence: 1</td>\n",
              "      <td>Thousands</td>\n",
              "      <td>NNS</td>\n",
              "      <td>O</td>\n",
              "      <td>3963</td>\n",
              "      <td>13</td>\n",
              "    </tr>\n",
              "    <tr>\n",
              "      <th>1</th>\n",
              "      <td>NaN</td>\n",
              "      <td>of</td>\n",
              "      <td>IN</td>\n",
              "      <td>O</td>\n",
              "      <td>27645</td>\n",
              "      <td>13</td>\n",
              "    </tr>\n",
              "    <tr>\n",
              "      <th>2</th>\n",
              "      <td>NaN</td>\n",
              "      <td>demonstrators</td>\n",
              "      <td>NNS</td>\n",
              "      <td>O</td>\n",
              "      <td>24394</td>\n",
              "      <td>13</td>\n",
              "    </tr>\n",
              "    <tr>\n",
              "      <th>3</th>\n",
              "      <td>NaN</td>\n",
              "      <td>have</td>\n",
              "      <td>VBP</td>\n",
              "      <td>O</td>\n",
              "      <td>8012</td>\n",
              "      <td>13</td>\n",
              "    </tr>\n",
              "    <tr>\n",
              "      <th>4</th>\n",
              "      <td>NaN</td>\n",
              "      <td>marched</td>\n",
              "      <td>VBN</td>\n",
              "      <td>O</td>\n",
              "      <td>7655</td>\n",
              "      <td>13</td>\n",
              "    </tr>\n",
              "  </tbody>\n",
              "</table>\n",
              "</div>"
            ],
            "text/plain": [
              "    Sentence #           Word  POS Tag  Word_to_idx  Tag_to_idx\n",
              "0  Sentence: 1      Thousands  NNS   O         3963          13\n",
              "1          NaN             of   IN   O        27645          13\n",
              "2          NaN  demonstrators  NNS   O        24394          13\n",
              "3          NaN           have  VBP   O         8012          13\n",
              "4          NaN        marched  VBN   O         7655          13"
            ]
          },
          "metadata": {
            "tags": []
          },
          "execution_count": 7
        }
      ]
    },
    {
      "cell_type": "code",
      "metadata": {
        "colab": {
          "base_uri": "https://localhost:8080/"
        },
        "id": "95rC-Bmmj2rS",
        "outputId": "de95e205-8851-429a-de17-bb7afda87e9e"
      },
      "source": [
        "token_to_idx['Thousands']"
      ],
      "execution_count": null,
      "outputs": [
        {
          "output_type": "execute_result",
          "data": {
            "text/plain": [
              "3963"
            ]
          },
          "metadata": {
            "tags": []
          },
          "execution_count": 8
        }
      ]
    },
    {
      "cell_type": "markdown",
      "metadata": {
        "id": "30cGMvylkNh1"
      },
      "source": [
        "We can see that the function has added two new index columns for our X (Word_to_idx) and y (Tag_to_idx) variables. Next, let us collect tokens into arrays in the respective sequence to make the recurrent neural network’s best use."
      ]
    },
    {
      "cell_type": "markdown",
      "metadata": {
        "id": "C1VM0K3EkmEK"
      },
      "source": [
        "# Transform columns to extract sequential data"
      ]
    },
    {
      "cell_type": "markdown",
      "metadata": {
        "id": "4atZyVgIkpfx"
      },
      "source": [
        "To transform columns into sequential arrays, we will\r\n",
        "\r\n",
        "\r\n",
        "1. Fill NaN in the ‘sentence #’ column using method ffill in fillna.\r\n",
        "2. After that, run groupby on the sentence column to get a list of tokens and tags."
      ]
    },
    {
      "cell_type": "code",
      "metadata": {
        "id": "gmjQRt_MknkX"
      },
      "source": [
        "data_fill_NA = data.fillna(method ='ffill', axis = 0)\r\n",
        "\r\n",
        "group_by_data = data_fill_NA.groupby(['Sentence #'], as_index = False)"
      ],
      "execution_count": null,
      "outputs": []
    },
    {
      "cell_type": "code",
      "metadata": {
        "colab": {
          "base_uri": "https://localhost:8080/"
        },
        "id": "gcfXv_wNl8RN",
        "outputId": "0b5a727d-6373-4d4b-ffe0-fecd13171015"
      },
      "source": [
        "group_by_data = group_by_data['Word','POS','Tag','Word_to_idx','Tag_to_idx'].agg(lambda x: list(x))"
      ],
      "execution_count": null,
      "outputs": [
        {
          "output_type": "stream",
          "text": [
            "/usr/local/lib/python3.7/dist-packages/ipykernel_launcher.py:1: FutureWarning: Indexing with multiple keys (implicitly converted to a tuple of keys) will be deprecated, use a list instead.\n",
            "  \"\"\"Entry point for launching an IPython kernel.\n"
          ],
          "name": "stderr"
        }
      ]
    },
    {
      "cell_type": "code",
      "metadata": {
        "colab": {
          "base_uri": "https://localhost:8080/",
          "height": 391
        },
        "id": "lGNzNUKwl-eI",
        "outputId": "82309b68-0c11-4ca1-ef05-97580090143c"
      },
      "source": [
        "group_by_data.head()"
      ],
      "execution_count": null,
      "outputs": [
        {
          "output_type": "execute_result",
          "data": {
            "text/html": [
              "<div>\n",
              "<style scoped>\n",
              "    .dataframe tbody tr th:only-of-type {\n",
              "        vertical-align: middle;\n",
              "    }\n",
              "\n",
              "    .dataframe tbody tr th {\n",
              "        vertical-align: top;\n",
              "    }\n",
              "\n",
              "    .dataframe thead th {\n",
              "        text-align: right;\n",
              "    }\n",
              "</style>\n",
              "<table border=\"1\" class=\"dataframe\">\n",
              "  <thead>\n",
              "    <tr style=\"text-align: right;\">\n",
              "      <th></th>\n",
              "      <th>Sentence #</th>\n",
              "      <th>Word</th>\n",
              "      <th>POS</th>\n",
              "      <th>Tag</th>\n",
              "      <th>Word_to_idx</th>\n",
              "      <th>Tag_to_idx</th>\n",
              "    </tr>\n",
              "  </thead>\n",
              "  <tbody>\n",
              "    <tr>\n",
              "      <th>0</th>\n",
              "      <td>Sentence: 1</td>\n",
              "      <td>[Thousands, of, demonstrators, have, marched, ...</td>\n",
              "      <td>[NNS, IN, NNS, VBP, VBN, IN, NNP, TO, VB, DT, ...</td>\n",
              "      <td>[O, O, O, O, O, O, B-geo, O, O, O, O, O, B-geo...</td>\n",
              "      <td>[3963, 27645, 24394, 8012, 7655, 7716, 15591, ...</td>\n",
              "      <td>[13, 13, 13, 13, 13, 13, 3, 13, 13, 13, 13, 13...</td>\n",
              "    </tr>\n",
              "    <tr>\n",
              "      <th>1</th>\n",
              "      <td>Sentence: 10</td>\n",
              "      <td>[Iranian, officials, say, they, expect, to, ge...</td>\n",
              "      <td>[JJ, NNS, VBP, PRP, VBP, TO, VB, NN, TO, JJ, J...</td>\n",
              "      <td>[B-gpe, O, O, O, O, O, O, O, O, O, O, O, O, O,...</td>\n",
              "      <td>[26223, 24420, 32324, 1978, 13469, 14954, 2834...</td>\n",
              "      <td>[15, 13, 13, 13, 13, 13, 13, 13, 13, 13, 13, 1...</td>\n",
              "    </tr>\n",
              "    <tr>\n",
              "      <th>2</th>\n",
              "      <td>Sentence: 100</td>\n",
              "      <td>[Helicopter, gunships, Saturday, pounded, mili...</td>\n",
              "      <td>[NN, NNS, NNP, VBD, JJ, NNS, IN, DT, NNP, JJ, ...</td>\n",
              "      <td>[O, O, B-tim, O, O, O, O, O, B-geo, O, O, O, O...</td>\n",
              "      <td>[11149, 25484, 9547, 8433, 4685, 7409, 30994, ...</td>\n",
              "      <td>[13, 13, 4, 13, 13, 13, 13, 13, 3, 13, 13, 13,...</td>\n",
              "    </tr>\n",
              "    <tr>\n",
              "      <th>3</th>\n",
              "      <td>Sentence: 1000</td>\n",
              "      <td>[They, left, after, a, tense, hour-long, stand...</td>\n",
              "      <td>[PRP, VBD, IN, DT, NN, JJ, NN, IN, NN, NNS, .]</td>\n",
              "      <td>[O, O, O, O, O, O, O, O, O, O, O]</td>\n",
              "      <td>[1701, 30439, 26074, 34336, 11783, 34819, 6462...</td>\n",
              "      <td>[13, 13, 13, 13, 13, 13, 13, 13, 13, 13, 13]</td>\n",
              "    </tr>\n",
              "    <tr>\n",
              "      <th>4</th>\n",
              "      <td>Sentence: 10000</td>\n",
              "      <td>[U.N., relief, coordinator, Jan, Egeland, said...</td>\n",
              "      <td>[NNP, NN, NN, NNP, NNP, VBD, NNP, ,, NNP, ,, J...</td>\n",
              "      <td>[B-geo, O, O, B-per, I-per, O, B-tim, O, B-geo...</td>\n",
              "      <td>[27019, 3600, 27484, 26195, 7786, 23434, 8713,...</td>\n",
              "      <td>[3, 13, 13, 7, 10, 13, 4, 13, 3, 13, 15, 13, 1...</td>\n",
              "    </tr>\n",
              "  </tbody>\n",
              "</table>\n",
              "</div>"
            ],
            "text/plain": [
              "        Sentence #  ...                                         Tag_to_idx\n",
              "0      Sentence: 1  ...  [13, 13, 13, 13, 13, 13, 3, 13, 13, 13, 13, 13...\n",
              "1     Sentence: 10  ...  [15, 13, 13, 13, 13, 13, 13, 13, 13, 13, 13, 1...\n",
              "2    Sentence: 100  ...  [13, 13, 4, 13, 13, 13, 13, 13, 3, 13, 13, 13,...\n",
              "3   Sentence: 1000  ...       [13, 13, 13, 13, 13, 13, 13, 13, 13, 13, 13]\n",
              "4  Sentence: 10000  ...  [3, 13, 13, 7, 10, 13, 4, 13, 3, 13, 15, 13, 1...\n",
              "\n",
              "[5 rows x 6 columns]"
            ]
          },
          "metadata": {
            "tags": []
          },
          "execution_count": 11
        }
      ]
    },
    {
      "cell_type": "markdown",
      "metadata": {
        "id": "jE-QswbkT2we"
      },
      "source": [
        "# Split the dataset into train, test after padding\r\n",
        "\r\n",
        "##Padding:  \r\n",
        "The LSTM layers accept sequences of the same length only. Therefore, every sentence represented as integers (‘Word_idx’) must be padded to have the same length. We will work with the max length of the longest sequence and pad the shorter sequences to achieve this.\r\n",
        "Please note we can use shorter padding lengths as well. In that case, you will be padding the shorter sequences and truncating the longer sequences.\r\n",
        "We will also be converting the y variable as one-hot encoded vector using the to_categorical function in Keras. Let us import the required packages."
      ]
    },
    {
      "cell_type": "code",
      "metadata": {
        "id": "deYVYf5CmlLC"
      },
      "source": [
        "import keras\r\n",
        "from sklearn.model_selection import train_test_split\r\n",
        "from keras.preprocessing.sequence import pad_sequences\r\n",
        "from keras.utils import to_categorical"
      ],
      "execution_count": null,
      "outputs": []
    },
    {
      "cell_type": "code",
      "metadata": {
        "id": "rSYo3CkCTuG2"
      },
      "source": [
        "def get_pad_sequence(data_group,data):\r\n",
        "\r\n",
        "  #get max token and tag length\r\n",
        "\r\n",
        "  n_tokens = len(list(set(data['Word'].to_list())))\r\n",
        "  n_tag = len(list(set(data['Tag'].to_list())))\r\n",
        "\r\n",
        "  #Pad Tokens\r\n",
        "  tokens = data_group['Word_to_idx'].to_list()\r\n",
        "  maxlen = max([len(t) for t in tokens])\r\n",
        "  pad_tokens = pad_sequences(tokens, maxlen=maxlen, dtype= 'int32',padding='post', value= n_tokens-1)\r\n",
        "\r\n",
        "  #Pad Tags and convert into one hot encoding\r\n",
        "  tags = data_group['Tag_to_idx'].to_list()\r\n",
        "  pad_tags = pad_sequences(tags, maxlen=maxlen,dtype='int32', padding='post',value=tag_to_idx['O'])\r\n",
        "  n_tags = len(tag_to_idx)\r\n",
        "  pad_tags = [to_categorical(i, num_classes=n_tags) for i in pad_tags]\r\n",
        "\r\n",
        "  #Split train, test and validation set\r\n",
        "  tokens_, test_tokens, tags_, test_tags = train_test_split(pad_tokens, pad_tags, \r\n",
        "                                                            test_size=0.1, train_size=0.9,random_state=2020)\r\n",
        "  train_tokens,val_tokens,train_tags,val_tags = train_test_split(tokens_, tags_, test_size=0.25, \r\n",
        "                                                                 train_size=0.75,random_state=2020)\r\n",
        "  \r\n",
        "  print('train_tokens length:', len(train_tokens),\r\n",
        "        '\\ntrain_tokens length:', len(train_tags),\r\n",
        "        '\\ntest_tokens length:', len(test_tokens),\r\n",
        "        '\\ntest_tags:', len(test_tags),\r\n",
        "        '\\nval_tokens:', len(val_tokens),\r\n",
        "        '\\nval_tags:', len(val_tags)\r\n",
        "        )\r\n",
        "  \r\n",
        "  return train_tokens, val_tokens, test_tokens, train_tags, val_tags, test_tags"
      ],
      "execution_count": null,
      "outputs": []
    },
    {
      "cell_type": "code",
      "metadata": {
        "colab": {
          "base_uri": "https://localhost:8080/"
        },
        "id": "ew9pp7dmWXEd",
        "outputId": "fc2d1158-32ca-406e-ff2c-ec40c78c3629"
      },
      "source": [
        "train_tokens, val_tokens, test_tokens, train_tags, val_tags, test_tags = get_pad_sequence(group_by_data, data)"
      ],
      "execution_count": null,
      "outputs": [
        {
          "output_type": "stream",
          "text": [
            "train_tokens length: 32372 \n",
            "train_tokens length: 32372 \n",
            "test_tokens length: 4796 \n",
            "test_tags: 4796 \n",
            "val_tokens: 10791 \n",
            "val_tags: 10791\n"
          ],
          "name": "stdout"
        }
      ]
    },
    {
      "cell_type": "code",
      "metadata": {
        "colab": {
          "base_uri": "https://localhost:8080/"
        },
        "id": "F6fay6gaG6d9",
        "outputId": "57cc0067-cf09-4b55-c6cc-ba93c36d377f"
      },
      "source": [
        "for token, tag in zip(train_tokens[0], train_tags[0]):\r\n",
        "    print('%s\\t%s' % (token, tag))"
      ],
      "execution_count": null,
      "outputs": [
        {
          "output_type": "stream",
          "text": [
            "32152\t[0. 0. 0. 0. 0. 0. 0. 0. 0. 0. 0. 0. 0. 0. 0. 0. 1.]\n",
            "25848\t[0. 0. 0. 0. 0. 0. 0. 0. 0. 0. 0. 0. 0. 1. 0. 0. 0.]\n",
            "31313\t[0. 0. 0. 0. 0. 0. 0. 1. 0. 0. 0. 0. 0. 0. 0. 0. 0.]\n",
            "12831\t[0. 0. 0. 0. 0. 0. 0. 0. 0. 0. 1. 0. 0. 0. 0. 0. 0.]\n",
            "10262\t[0. 0. 0. 0. 0. 0. 0. 0. 0. 0. 0. 0. 0. 1. 0. 0. 0.]\n",
            "30370\t[0. 0. 0. 0. 0. 0. 0. 0. 0. 0. 0. 0. 0. 0. 0. 0. 1.]\n",
            "12981\t[0. 0. 0. 0. 0. 0. 0. 0. 0. 0. 0. 0. 0. 1. 0. 0. 0.]\n",
            "7195\t[0. 0. 0. 0. 0. 0. 0. 0. 0. 0. 0. 0. 0. 1. 0. 0. 0.]\n",
            "10164\t[0. 0. 0. 0. 0. 0. 0. 0. 0. 0. 0. 0. 0. 1. 0. 0. 0.]\n",
            "21937\t[0. 0. 0. 0. 0. 0. 0. 0. 0. 0. 0. 0. 0. 1. 0. 0. 0.]\n",
            "34336\t[0. 0. 0. 0. 0. 0. 0. 0. 0. 0. 0. 0. 0. 1. 0. 0. 0.]\n",
            "27111\t[0. 0. 0. 0. 0. 0. 0. 0. 0. 0. 0. 0. 0. 1. 0. 0. 0.]\n",
            "5471\t[0. 0. 0. 0. 0. 0. 0. 0. 0. 0. 0. 0. 0. 1. 0. 0. 0.]\n",
            "14954\t[0. 0. 0. 0. 0. 0. 0. 0. 0. 0. 0. 0. 0. 1. 0. 0. 0.]\n",
            "10974\t[0. 0. 0. 0. 0. 0. 0. 0. 0. 0. 0. 0. 0. 1. 0. 0. 0.]\n",
            "12981\t[0. 0. 0. 0. 0. 0. 0. 0. 0. 0. 0. 0. 0. 1. 0. 0. 0.]\n",
            "13811\t[0. 0. 0. 0. 0. 0. 0. 0. 0. 0. 0. 0. 0. 1. 0. 0. 0.]\n",
            "12496\t[0. 0. 0. 0. 0. 0. 0. 0. 0. 0. 0. 0. 0. 1. 0. 0. 0.]\n",
            "23715\t[0. 0. 0. 0. 0. 0. 0. 0. 0. 0. 0. 0. 0. 1. 0. 0. 0.]\n",
            "10927\t[0. 0. 0. 0. 0. 0. 0. 0. 0. 0. 0. 0. 0. 1. 0. 0. 0.]\n",
            "1907\t[0. 0. 0. 0. 0. 0. 0. 0. 0. 0. 0. 0. 0. 1. 0. 0. 0.]\n",
            "7430\t[0. 0. 0. 0. 0. 0. 0. 0. 0. 0. 0. 0. 0. 0. 0. 0. 1.]\n",
            "29570\t[0. 0. 0. 0. 0. 0. 0. 0. 1. 0. 0. 0. 0. 0. 0. 0. 0.]\n",
            "11384\t[0. 0. 0. 0. 0. 0. 0. 0. 1. 0. 0. 0. 0. 0. 0. 0. 0.]\n",
            "24358\t[0. 0. 0. 0. 0. 0. 0. 0. 1. 0. 0. 0. 0. 0. 0. 0. 0.]\n",
            "9112\t[0. 0. 0. 0. 0. 0. 0. 0. 1. 0. 0. 0. 0. 0. 0. 0. 0.]\n",
            "14954\t[0. 0. 0. 0. 0. 0. 0. 0. 0. 0. 0. 0. 0. 1. 0. 0. 0.]\n",
            "30109\t[0. 0. 0. 0. 0. 0. 0. 0. 0. 0. 0. 0. 0. 1. 0. 0. 0.]\n",
            "30994\t[0. 0. 0. 0. 0. 0. 0. 0. 0. 0. 0. 0. 0. 1. 0. 0. 0.]\n",
            "16554\t[0. 0. 0. 1. 0. 0. 0. 0. 0. 0. 0. 0. 0. 0. 0. 0. 0.]\n",
            "8165\t[0. 0. 0. 0. 0. 0. 0. 0. 0. 0. 0. 0. 0. 1. 0. 0. 0.]\n",
            "35177\t[0. 0. 0. 0. 0. 0. 0. 0. 0. 0. 0. 0. 0. 1. 0. 0. 0.]\n",
            "35177\t[0. 0. 0. 0. 0. 0. 0. 0. 0. 0. 0. 0. 0. 1. 0. 0. 0.]\n",
            "35177\t[0. 0. 0. 0. 0. 0. 0. 0. 0. 0. 0. 0. 0. 1. 0. 0. 0.]\n",
            "35177\t[0. 0. 0. 0. 0. 0. 0. 0. 0. 0. 0. 0. 0. 1. 0. 0. 0.]\n",
            "35177\t[0. 0. 0. 0. 0. 0. 0. 0. 0. 0. 0. 0. 0. 1. 0. 0. 0.]\n",
            "35177\t[0. 0. 0. 0. 0. 0. 0. 0. 0. 0. 0. 0. 0. 1. 0. 0. 0.]\n",
            "35177\t[0. 0. 0. 0. 0. 0. 0. 0. 0. 0. 0. 0. 0. 1. 0. 0. 0.]\n",
            "35177\t[0. 0. 0. 0. 0. 0. 0. 0. 0. 0. 0. 0. 0. 1. 0. 0. 0.]\n",
            "35177\t[0. 0. 0. 0. 0. 0. 0. 0. 0. 0. 0. 0. 0. 1. 0. 0. 0.]\n",
            "35177\t[0. 0. 0. 0. 0. 0. 0. 0. 0. 0. 0. 0. 0. 1. 0. 0. 0.]\n",
            "35177\t[0. 0. 0. 0. 0. 0. 0. 0. 0. 0. 0. 0. 0. 1. 0. 0. 0.]\n",
            "35177\t[0. 0. 0. 0. 0. 0. 0. 0. 0. 0. 0. 0. 0. 1. 0. 0. 0.]\n",
            "35177\t[0. 0. 0. 0. 0. 0. 0. 0. 0. 0. 0. 0. 0. 1. 0. 0. 0.]\n",
            "35177\t[0. 0. 0. 0. 0. 0. 0. 0. 0. 0. 0. 0. 0. 1. 0. 0. 0.]\n",
            "35177\t[0. 0. 0. 0. 0. 0. 0. 0. 0. 0. 0. 0. 0. 1. 0. 0. 0.]\n",
            "35177\t[0. 0. 0. 0. 0. 0. 0. 0. 0. 0. 0. 0. 0. 1. 0. 0. 0.]\n",
            "35177\t[0. 0. 0. 0. 0. 0. 0. 0. 0. 0. 0. 0. 0. 1. 0. 0. 0.]\n",
            "35177\t[0. 0. 0. 0. 0. 0. 0. 0. 0. 0. 0. 0. 0. 1. 0. 0. 0.]\n",
            "35177\t[0. 0. 0. 0. 0. 0. 0. 0. 0. 0. 0. 0. 0. 1. 0. 0. 0.]\n",
            "35177\t[0. 0. 0. 0. 0. 0. 0. 0. 0. 0. 0. 0. 0. 1. 0. 0. 0.]\n",
            "35177\t[0. 0. 0. 0. 0. 0. 0. 0. 0. 0. 0. 0. 0. 1. 0. 0. 0.]\n",
            "35177\t[0. 0. 0. 0. 0. 0. 0. 0. 0. 0. 0. 0. 0. 1. 0. 0. 0.]\n",
            "35177\t[0. 0. 0. 0. 0. 0. 0. 0. 0. 0. 0. 0. 0. 1. 0. 0. 0.]\n",
            "35177\t[0. 0. 0. 0. 0. 0. 0. 0. 0. 0. 0. 0. 0. 1. 0. 0. 0.]\n",
            "35177\t[0. 0. 0. 0. 0. 0. 0. 0. 0. 0. 0. 0. 0. 1. 0. 0. 0.]\n",
            "35177\t[0. 0. 0. 0. 0. 0. 0. 0. 0. 0. 0. 0. 0. 1. 0. 0. 0.]\n",
            "35177\t[0. 0. 0. 0. 0. 0. 0. 0. 0. 0. 0. 0. 0. 1. 0. 0. 0.]\n",
            "35177\t[0. 0. 0. 0. 0. 0. 0. 0. 0. 0. 0. 0. 0. 1. 0. 0. 0.]\n",
            "35177\t[0. 0. 0. 0. 0. 0. 0. 0. 0. 0. 0. 0. 0. 1. 0. 0. 0.]\n",
            "35177\t[0. 0. 0. 0. 0. 0. 0. 0. 0. 0. 0. 0. 0. 1. 0. 0. 0.]\n",
            "35177\t[0. 0. 0. 0. 0. 0. 0. 0. 0. 0. 0. 0. 0. 1. 0. 0. 0.]\n",
            "35177\t[0. 0. 0. 0. 0. 0. 0. 0. 0. 0. 0. 0. 0. 1. 0. 0. 0.]\n",
            "35177\t[0. 0. 0. 0. 0. 0. 0. 0. 0. 0. 0. 0. 0. 1. 0. 0. 0.]\n",
            "35177\t[0. 0. 0. 0. 0. 0. 0. 0. 0. 0. 0. 0. 0. 1. 0. 0. 0.]\n",
            "35177\t[0. 0. 0. 0. 0. 0. 0. 0. 0. 0. 0. 0. 0. 1. 0. 0. 0.]\n",
            "35177\t[0. 0. 0. 0. 0. 0. 0. 0. 0. 0. 0. 0. 0. 1. 0. 0. 0.]\n",
            "35177\t[0. 0. 0. 0. 0. 0. 0. 0. 0. 0. 0. 0. 0. 1. 0. 0. 0.]\n",
            "35177\t[0. 0. 0. 0. 0. 0. 0. 0. 0. 0. 0. 0. 0. 1. 0. 0. 0.]\n",
            "35177\t[0. 0. 0. 0. 0. 0. 0. 0. 0. 0. 0. 0. 0. 1. 0. 0. 0.]\n",
            "35177\t[0. 0. 0. 0. 0. 0. 0. 0. 0. 0. 0. 0. 0. 1. 0. 0. 0.]\n",
            "35177\t[0. 0. 0. 0. 0. 0. 0. 0. 0. 0. 0. 0. 0. 1. 0. 0. 0.]\n",
            "35177\t[0. 0. 0. 0. 0. 0. 0. 0. 0. 0. 0. 0. 0. 1. 0. 0. 0.]\n",
            "35177\t[0. 0. 0. 0. 0. 0. 0. 0. 0. 0. 0. 0. 0. 1. 0. 0. 0.]\n",
            "35177\t[0. 0. 0. 0. 0. 0. 0. 0. 0. 0. 0. 0. 0. 1. 0. 0. 0.]\n",
            "35177\t[0. 0. 0. 0. 0. 0. 0. 0. 0. 0. 0. 0. 0. 1. 0. 0. 0.]\n",
            "35177\t[0. 0. 0. 0. 0. 0. 0. 0. 0. 0. 0. 0. 0. 1. 0. 0. 0.]\n",
            "35177\t[0. 0. 0. 0. 0. 0. 0. 0. 0. 0. 0. 0. 0. 1. 0. 0. 0.]\n",
            "35177\t[0. 0. 0. 0. 0. 0. 0. 0. 0. 0. 0. 0. 0. 1. 0. 0. 0.]\n",
            "35177\t[0. 0. 0. 0. 0. 0. 0. 0. 0. 0. 0. 0. 0. 1. 0. 0. 0.]\n",
            "35177\t[0. 0. 0. 0. 0. 0. 0. 0. 0. 0. 0. 0. 0. 1. 0. 0. 0.]\n",
            "35177\t[0. 0. 0. 0. 0. 0. 0. 0. 0. 0. 0. 0. 0. 1. 0. 0. 0.]\n",
            "35177\t[0. 0. 0. 0. 0. 0. 0. 0. 0. 0. 0. 0. 0. 1. 0. 0. 0.]\n",
            "35177\t[0. 0. 0. 0. 0. 0. 0. 0. 0. 0. 0. 0. 0. 1. 0. 0. 0.]\n",
            "35177\t[0. 0. 0. 0. 0. 0. 0. 0. 0. 0. 0. 0. 0. 1. 0. 0. 0.]\n",
            "35177\t[0. 0. 0. 0. 0. 0. 0. 0. 0. 0. 0. 0. 0. 1. 0. 0. 0.]\n",
            "35177\t[0. 0. 0. 0. 0. 0. 0. 0. 0. 0. 0. 0. 0. 1. 0. 0. 0.]\n",
            "35177\t[0. 0. 0. 0. 0. 0. 0. 0. 0. 0. 0. 0. 0. 1. 0. 0. 0.]\n",
            "35177\t[0. 0. 0. 0. 0. 0. 0. 0. 0. 0. 0. 0. 0. 1. 0. 0. 0.]\n",
            "35177\t[0. 0. 0. 0. 0. 0. 0. 0. 0. 0. 0. 0. 0. 1. 0. 0. 0.]\n",
            "35177\t[0. 0. 0. 0. 0. 0. 0. 0. 0. 0. 0. 0. 0. 1. 0. 0. 0.]\n",
            "35177\t[0. 0. 0. 0. 0. 0. 0. 0. 0. 0. 0. 0. 0. 1. 0. 0. 0.]\n",
            "35177\t[0. 0. 0. 0. 0. 0. 0. 0. 0. 0. 0. 0. 0. 1. 0. 0. 0.]\n",
            "35177\t[0. 0. 0. 0. 0. 0. 0. 0. 0. 0. 0. 0. 0. 1. 0. 0. 0.]\n",
            "35177\t[0. 0. 0. 0. 0. 0. 0. 0. 0. 0. 0. 0. 0. 1. 0. 0. 0.]\n",
            "35177\t[0. 0. 0. 0. 0. 0. 0. 0. 0. 0. 0. 0. 0. 1. 0. 0. 0.]\n",
            "35177\t[0. 0. 0. 0. 0. 0. 0. 0. 0. 0. 0. 0. 0. 1. 0. 0. 0.]\n",
            "35177\t[0. 0. 0. 0. 0. 0. 0. 0. 0. 0. 0. 0. 0. 1. 0. 0. 0.]\n",
            "35177\t[0. 0. 0. 0. 0. 0. 0. 0. 0. 0. 0. 0. 0. 1. 0. 0. 0.]\n",
            "35177\t[0. 0. 0. 0. 0. 0. 0. 0. 0. 0. 0. 0. 0. 1. 0. 0. 0.]\n",
            "35177\t[0. 0. 0. 0. 0. 0. 0. 0. 0. 0. 0. 0. 0. 1. 0. 0. 0.]\n",
            "35177\t[0. 0. 0. 0. 0. 0. 0. 0. 0. 0. 0. 0. 0. 1. 0. 0. 0.]\n",
            "35177\t[0. 0. 0. 0. 0. 0. 0. 0. 0. 0. 0. 0. 0. 1. 0. 0. 0.]\n",
            "35177\t[0. 0. 0. 0. 0. 0. 0. 0. 0. 0. 0. 0. 0. 1. 0. 0. 0.]\n"
          ],
          "name": "stdout"
        }
      ]
    },
    {
      "cell_type": "markdown",
      "metadata": {
        "id": "fX5mdMhAeLin"
      },
      "source": [
        "# Build the model architecture\r\n",
        "\r\n",
        "Neural network models work with graphical structure. Therefore we will first need to design the architecture and set input and out dimensions for every layer. RNNs are capable of handling different input and output combinations. We will use many to many architectures for this task."
      ]
    },
    {
      "cell_type": "code",
      "metadata": {
        "id": "mTCMvJoNWaDJ"
      },
      "source": [
        "import tensorflow\r\n",
        "from tensorflow.keras import Sequential, Model, Input\r\n",
        "from tensorflow.keras.layers import LSTM, Embedding, Dense, TimeDistributed, Dropout, Bidirectional\r\n",
        "from tensorflow.keras.utils import plot_model"
      ],
      "execution_count": null,
      "outputs": []
    },
    {
      "cell_type": "code",
      "metadata": {
        "id": "EzTlOtQvWbDq"
      },
      "source": [
        "from numpy.random import seed\r\n",
        "seed(1)\r\n",
        "tensorflow.random.set_seed(2)"
      ],
      "execution_count": null,
      "outputs": []
    },
    {
      "cell_type": "markdown",
      "metadata": {
        "id": "N2Bi8g-T69x2"
      },
      "source": [
        "In this architecture, we are primarily working with three layers (embedding, bi-lstm, lstm layers) and the 4th layer, which is TimeDistributed Dense layer, to output the result.\r\n",
        "\r\n",
        "#### Layer 1 — Embedding layer: \r\n",
        "We will specify the maximum length (104) of the padded sequences. After the network is trained, the embedding layer will transform each token into a vector of n dimensions. We have chosen the n dimensions to be (32).\r\n",
        "The dimensions (?, 104, 32) that we see in the given neural network plot’s embedding layer comes from these specifications. Please note the 1st dimension shows ‘?’ or None in the plots. They represent the batch sizes. If it is not provided, they show ‘?’ or None, which means the model can take any batch size.\r\n",
        "\r\n",
        "#### Layer 2 — Bidirectional LSTM: \r\n",
        "Bidirectional lstm takes a recurrent layer (e.g. the first LSTM layer) as an argument. This layer takes the output from the previous embedding layer (104, 32).\r\n",
        "Since this is bidirectional lstm, we will have forward and backward outputs. Combine these outputs before passing this to the next layer by summing or taking average or concatenating or multiplying. Find these functions in the merge mode argument in bi-lstm layer. The outputs are concatenated in the default mode, which in turn doubles the number of outputs to the next layer. In our case, it becomes 64(32 * 2).\r\n",
        "\r\n",
        "#### Layer 3 — LSTM Layer: \r\n",
        "An LSTMnetwork is a recurrent neural network that has LSTM cell blocks in place of our standard neural network layers. These cells have various components called the input gate, forget gate, and output gate.\r\n",
        "This layer takes the output dimension from the previous bidirectional lstm layer (?, 104, 128) and outputs (?, 104, 256)\r\n",
        "\r\n",
        "#### Layer 4 — TimeDistributed Layer: \r\n",
        "We are dealing with Many to Many RNN Architecture, where we expect output from every input sequence. Here is an example, in the sequence (a1 →b1, a2 →b2…an →bn), a, and b are inputs and outputs of every sequence. The TimeDistributeDense layers allow Dense(fully-connected) operation across every output over every time-step. No using this layer will result in one final output.\r\n",
        "This layer takes the output dimension of the previous lstm layer (104, 256) and outputs the max sequence length (104) and max tags (17)."
      ]
    },
    {
      "cell_type": "code",
      "metadata": {
        "id": "-6cgAkw8efSv"
      },
      "source": [
        "input_dim = len(list(set(data['Word'].to_list())))+1\r\n",
        "output_dim = 32\r\n",
        "input_length = max([len(s) for s in group_by_data['Word_to_idx'].to_list()])\r\n",
        "n_tags = len(tag_to_idx)"
      ],
      "execution_count": null,
      "outputs": []
    },
    {
      "cell_type": "code",
      "metadata": {
        "colab": {
          "base_uri": "https://localhost:8080/"
        },
        "id": "vQPWsP7xBj3u",
        "outputId": "53f48ab3-dde0-4472-accc-7298aa84d2c0"
      },
      "source": [
        "print('input_dim: ', input_dim, '\\noutput_dim: ', output_dim, '\\ninput_length: ', input_length, '\\nn_tags: ', n_tags)"
      ],
      "execution_count": null,
      "outputs": [
        {
          "output_type": "stream",
          "text": [
            "input_dim:  35179 \n",
            "output_dim:  32 \n",
            "input_length:  104 \n",
            "n_tags:  17\n"
          ],
          "name": "stdout"
        }
      ]
    },
    {
      "cell_type": "markdown",
      "metadata": {
        "id": "JKlnGZqfBwDE"
      },
      "source": [
        "Given below is the code used to build the model architecture we discussed above. Before fitting the model, check the model graph by plotting the model using plot_model function or run model.summary() for the model summary."
      ]
    },
    {
      "cell_type": "code",
      "metadata": {
        "id": "0XHmIoPxBpRD"
      },
      "source": [
        "def get_bilstm_lstm_model():\r\n",
        "\r\n",
        "  Model = Sequential()\r\n",
        "\r\n",
        "  Model.add(Embedding(input_dim=input_dim, output_dim=output_dim,input_length=input_length))\r\n",
        "\r\n",
        "  Model.add(Bidirectional(LSTM(units=output_dim, return_sequences=True, dropout=0.2,\r\n",
        "                               recurrent_dropout=0.2),merge_mode='concat'))\r\n",
        "  \r\n",
        "  Model.add(LSTM(units=output_dim,return_sequences=True, dropout=0.5,recurrent_dropout=0.5))\r\n",
        "\r\n",
        "  Model.add(TimeDistributed(Dense(n_tags,activation='relu')))\r\n",
        "\r\n",
        "  adam = keras.optimizers.Adam(lr=0.0005,beta_1=0.9,beta_2=0.999)\r\n",
        "\r\n",
        "  Model.compile(loss='categorical_crossentropy', optimizer='adam', metrics=['accuracy'])\r\n",
        "  Model.summary()\r\n",
        "    \r\n",
        "  return Model"
      ],
      "execution_count": null,
      "outputs": []
    },
    {
      "cell_type": "code",
      "metadata": {
        "id": "CDSuMWabELzX"
      },
      "source": [
        ""
      ],
      "execution_count": null,
      "outputs": []
    },
    {
      "cell_type": "code",
      "metadata": {
        "id": "w0p_oXdxEXck"
      },
      "source": [
        "def train_model(X, y, model):\r\n",
        "    loss = list()\r\n",
        "    for i in range(25):\r\n",
        "        # fit model for one epoch on this sequence\r\n",
        "        hist = model.fit(X, y, batch_size=1000, verbose=1, epochs=1, validation_split=0.2)\r\n",
        "        loss.append(hist.history['loss'][0])\r\n",
        "    return loss"
      ],
      "execution_count": null,
      "outputs": []
    },
    {
      "cell_type": "code",
      "metadata": {
        "colab": {
          "base_uri": "https://localhost:8080/",
          "height": 738
        },
        "id": "_FGxEpgyE5Dw",
        "outputId": "4a96e25e-4ab5-483d-b67c-2d338cd69aea"
      },
      "source": [
        "results = pd.DataFrame()\r\n",
        "\r\n",
        "model_bilstm_lstm = get_bilstm_lstm_model()\r\n",
        "plot_model(model_bilstm_lstm)"
      ],
      "execution_count": null,
      "outputs": [
        {
          "output_type": "stream",
          "text": [
            "Model: \"sequential\"\n",
            "_________________________________________________________________\n",
            "Layer (type)                 Output Shape              Param #   \n",
            "=================================================================\n",
            "embedding (Embedding)        (None, 104, 32)           1125728   \n",
            "_________________________________________________________________\n",
            "bidirectional (Bidirectional (None, 104, 64)           16640     \n",
            "_________________________________________________________________\n",
            "lstm_1 (LSTM)                (None, 104, 32)           12416     \n",
            "_________________________________________________________________\n",
            "time_distributed (TimeDistri (None, 104, 17)           561       \n",
            "=================================================================\n",
            "Total params: 1,155,345\n",
            "Trainable params: 1,155,345\n",
            "Non-trainable params: 0\n",
            "_________________________________________________________________\n"
          ],
          "name": "stdout"
        },
        {
          "output_type": "execute_result",
          "data": {
            "image/png": "[encoded data removed]",
            "text/plain": [
              "<IPython.core.display.Image object>"
            ]
          },
          "metadata": {
            "tags": []
          },
          "execution_count": 22
        }
      ]
    },
    {
      "cell_type": "code",
      "metadata": {
        "colab": {
          "base_uri": "https://localhost:8080/"
        },
        "id": "34L3mEAwE_kD",
        "outputId": "aeebeef6-565c-496b-d67a-ea321ca820ca"
      },
      "source": [
        "results['with_add_lstm'] = train_model(train_tokens,np.array(train_tags),model_bilstm_lstm)"
      ],
      "execution_count": null,
      "outputs": [
        {
          "output_type": "stream",
          "text": [
            "26/26 [==============================] - 71s 2s/step - loss: 2.0381 - accuracy: 0.6366 - val_loss: 0.3611 - val_accuracy: 0.9681\n",
            "26/26 [==============================] - 58s 2s/step - loss: 0.3207 - accuracy: 0.9677 - val_loss: 0.2588 - val_accuracy: 0.9681\n",
            "26/26 [==============================] - 58s 2s/step - loss: 0.2705 - accuracy: 0.9677 - val_loss: 0.2325 - val_accuracy: 0.9681\n",
            "26/26 [==============================] - 58s 2s/step - loss: 0.2459 - accuracy: 0.9677 - val_loss: 0.2226 - val_accuracy: 0.9681\n",
            "26/26 [==============================] - 58s 2s/step - loss: 0.2339 - accuracy: 0.9677 - val_loss: 0.2096 - val_accuracy: 0.9681\n",
            "26/26 [==============================] - 58s 2s/step - loss: 0.2117 - accuracy: 0.9678 - val_loss: 0.1755 - val_accuracy: 0.9681\n",
            "26/26 [==============================] - 58s 2s/step - loss: 0.1797 - accuracy: 0.9678 - val_loss: 0.1634 - val_accuracy: 0.9681\n",
            "26/26 [==============================] - 59s 2s/step - loss: 0.1725 - accuracy: 0.9678 - val_loss: 0.1538 - val_accuracy: 0.9681\n",
            "26/26 [==============================] - 58s 2s/step - loss: 0.1698 - accuracy: 0.9678 - val_loss: 0.1807 - val_accuracy: 0.9682\n",
            "26/26 [==============================] - 58s 2s/step - loss: 0.1887 - accuracy: 0.9678 - val_loss: 0.1581 - val_accuracy: 0.9681\n",
            "26/26 [==============================] - 59s 2s/step - loss: 0.1620 - accuracy: 0.9678 - val_loss: 0.1537 - val_accuracy: 0.9681\n",
            "26/26 [==============================] - 68s 3s/step - loss: 0.1604 - accuracy: 0.9678 - val_loss: 0.1480 - val_accuracy: 0.9682\n",
            "26/26 [==============================] - 59s 2s/step - loss: 0.1514 - accuracy: 0.9678 - val_loss: 0.1476 - val_accuracy: 0.9681\n",
            "26/26 [==============================] - 59s 2s/step - loss: 0.1446 - accuracy: 0.9678 - val_loss: 0.1432 - val_accuracy: 0.9682\n",
            "26/26 [==============================] - 60s 2s/step - loss: 0.1406 - accuracy: 0.9679 - val_loss: 0.1470 - val_accuracy: 0.9682\n",
            "26/26 [==============================] - 59s 2s/step - loss: 0.1448 - accuracy: 0.9679 - val_loss: 0.1379 - val_accuracy: 0.9682\n",
            "26/26 [==============================] - 59s 2s/step - loss: 0.1463 - accuracy: 0.9680 - val_loss: 0.1417 - val_accuracy: 0.9682\n",
            "26/26 [==============================] - 59s 2s/step - loss: 0.1334 - accuracy: 0.9679 - val_loss: 0.1357 - val_accuracy: 0.9683\n",
            "26/26 [==============================] - 60s 2s/step - loss: 0.1297 - accuracy: 0.9680 - val_loss: 0.1328 - val_accuracy: 0.9683\n",
            "26/26 [==============================] - 59s 2s/step - loss: 0.1275 - accuracy: 0.9681 - val_loss: 0.1321 - val_accuracy: 0.9683\n",
            "26/26 [==============================] - 59s 2s/step - loss: 0.1259 - accuracy: 0.9680 - val_loss: 0.1311 - val_accuracy: 0.9683\n",
            "26/26 [==============================] - 60s 2s/step - loss: 0.1231 - accuracy: 0.9681 - val_loss: 0.1319 - val_accuracy: 0.9683\n",
            "26/26 [==============================] - 61s 2s/step - loss: 0.1215 - accuracy: 0.9681 - val_loss: 0.1302 - val_accuracy: 0.9683\n",
            "26/26 [==============================] - 60s 2s/step - loss: 0.1206 - accuracy: 0.9682 - val_loss: 0.1289 - val_accuracy: 0.9684\n",
            "26/26 [==============================] - 60s 2s/step - loss: 0.1173 - accuracy: 0.9682 - val_loss: 0.1277 - val_accuracy: 0.9685\n"
          ],
          "name": "stdout"
        }
      ]
    },
    {
      "cell_type": "code",
      "metadata": {
        "colab": {
          "base_uri": "https://localhost:8080/",
          "height": 279
        },
        "id": "S07y6PfDFYnC",
        "outputId": "44a5e91f-4e52-42ec-9ad1-fd824b19da60"
      },
      "source": [
        "import matplotlib.pyplot as plt\r\n",
        "plt.plot(results['with_add_lstm'])\r\n",
        "plt.xlabel('Epochs');\r\n",
        "plt.ylabel('Loss');"
      ],
      "execution_count": null,
      "outputs": [
        {
          "output_type": "display_data",
          "data": {
            "image/png": "[encoded data removed]",
            "text/plain": [
              "<Figure size 432x288 with 1 Axes>"
            ]
          },
          "metadata": {
            "tags": [],
            "needs_background": "light"
          }
        }
      ]
    },
    {
      "cell_type": "code",
      "metadata": {
        "id": "ZBPsmKXFSLWm"
      },
      "source": [
        "model_bilstm_lstm.save('my.h5')"
      ],
      "execution_count": null,
      "outputs": []
    },
    {
      "cell_type": "markdown",
      "metadata": {
        "id": "AJHWVeImSSJ6"
      },
      "source": [
        "# Spacy Entities"
      ]
    },
    {
      "cell_type": "code",
      "metadata": {
        "id": "qP65WnDASUul"
      },
      "source": [
        "import spacy\r\n",
        "from spacy import displacy\r\n",
        "nlp = spacy.load('en_core_web_sm')"
      ],
      "execution_count": null,
      "outputs": []
    },
    {
      "cell_type": "code",
      "metadata": {
        "id": "LR2Ya209SV2A"
      },
      "source": [
        "text = nlp(\r\n",
        "    'Jim bought 300 shares of Acme Corp. in 2006. And producing an annotated block of text that \\\r\n",
        "    highlights the names of entities: [Jim]Person bought 300 shares of \\\r\n",
        "    [Acme Corp.]Organization in [2006]Time. In this example, a person name consisting \\\r\n",
        "    of one token, a two-token company name and a temporal expression have been detected \\\r\n",
        "    and classified.State-of-the-art NER systems for English produce near-human performance. \\\r\n",
        "    For example, the best system entering MUC-7 scored 93.39% of F-measure while human \\\r\n",
        "    annotators scored 97.60% and 96.95%.[1][2]')"
      ],
      "execution_count": null,
      "outputs": []
    },
    {
      "cell_type": "code",
      "metadata": {
        "colab": {
          "base_uri": "https://localhost:8080/"
        },
        "id": "GfMeEM3RSZja",
        "outputId": "8304e9c3-6a22-4ad5-d2ee-588f6347c52a"
      },
      "source": [
        "for w in text.ents:\r\n",
        "  print(w.text,w.label_)"
      ],
      "execution_count": null,
      "outputs": [
        {
          "output_type": "stream",
          "text": [
            "Jim PERSON\n",
            "300 CARDINAL\n",
            "Acme Corp. ORG\n",
            "2006 DATE\n",
            "300 CARDINAL\n",
            "Acme Corp.]Organization WORK_OF_ART\n",
            "2006]Time CARDINAL\n",
            "one CARDINAL\n",
            "two CARDINAL\n",
            "NER ORG\n",
            "English LANGUAGE\n",
            "MUC-7 CARDINAL\n",
            "93.39% PERCENT\n",
            "97.60% PERCENT\n"
          ],
          "name": "stdout"
        }
      ]
    },
    {
      "cell_type": "code",
      "metadata": {
        "colab": {
          "base_uri": "https://localhost:8080/",
          "height": 35
        },
        "id": "MP-a6q-TSifJ",
        "outputId": "d7349a6e-3b2e-4e07-fee4-155edf6cc4ef"
      },
      "source": [
        "spacy.explain('CARDINAL')"
      ],
      "execution_count": null,
      "outputs": [
        {
          "output_type": "execute_result",
          "data": {
            "application/vnd.google.colaboratory.intrinsic+json": {
              "type": "string"
            },
            "text/plain": [
              "'Numerals that do not fall under another type'"
            ]
          },
          "metadata": {
            "tags": []
          },
          "execution_count": 29
        }
      ]
    },
    {
      "cell_type": "code",
      "metadata": {
        "colab": {
          "base_uri": "https://localhost:8080/",
          "height": 227
        },
        "id": "Tx4oUiUVTDWG",
        "outputId": "b527ddf4-a630-4421-9aac-ba90080cc80d"
      },
      "source": [
        "displacy.render(text, style = 'ent', jupyter=True)"
      ],
      "execution_count": null,
      "outputs": [
        {
          "output_type": "display_data",
          "data": {
            "text/html": [
              "<span class=\"tex2jax_ignore\"><div class=\"entities\" style=\"line-height: 2.5; direction: ltr\">\n",
              "<mark class=\"entity\" style=\"background: #aa9cfc; padding: 0.45em 0.6em; margin: 0 0.25em; line-height: 1; border-radius: 0.35em;\">\n",
              "    Jim\n",
              "    <span style=\"font-size: 0.8em; font-weight: bold; line-height: 1; border-radius: 0.35em; text-transform: uppercase; vertical-align: middle; margin-left: 0.5rem\">PERSON</span>\n",
              "</mark>\n",
              " bought \n",
              "<mark class=\"entity\" style=\"background: #e4e7d2; padding: 0.45em 0.6em; margin: 0 0.25em; line-height: 1; border-radius: 0.35em;\">\n",
              "    300\n",
              "    <span style=\"font-size: 0.8em; font-weight: bold; line-height: 1; border-radius: 0.35em; text-transform: uppercase; vertical-align: middle; margin-left: 0.5rem\">CARDINAL</span>\n",
              "</mark>\n",
              " shares of \n",
              "<mark class=\"entity\" style=\"background: #7aecec; padding: 0.45em 0.6em; margin: 0 0.25em; line-height: 1; border-radius: 0.35em;\">\n",
              "    Acme Corp.\n",
              "    <span style=\"font-size: 0.8em; font-weight: bold; line-height: 1; border-radius: 0.35em; text-transform: uppercase; vertical-align: middle; margin-left: 0.5rem\">ORG</span>\n",
              "</mark>\n",
              " in \n",
              "<mark class=\"entity\" style=\"background: #bfe1d9; padding: 0.45em 0.6em; margin: 0 0.25em; line-height: 1; border-radius: 0.35em;\">\n",
              "    2006\n",
              "    <span style=\"font-size: 0.8em; font-weight: bold; line-height: 1; border-radius: 0.35em; text-transform: uppercase; vertical-align: middle; margin-left: 0.5rem\">DATE</span>\n",
              "</mark>\n",
              ". And producing an annotated block of text that     highlights the names of entities: [Jim]Person bought \n",
              "<mark class=\"entity\" style=\"background: #e4e7d2; padding: 0.45em 0.6em; margin: 0 0.25em; line-height: 1; border-radius: 0.35em;\">\n",
              "    300\n",
              "    <span style=\"font-size: 0.8em; font-weight: bold; line-height: 1; border-radius: 0.35em; text-transform: uppercase; vertical-align: middle; margin-left: 0.5rem\">CARDINAL</span>\n",
              "</mark>\n",
              " shares of     [\n",
              "<mark class=\"entity\" style=\"background: #f0d0ff; padding: 0.45em 0.6em; margin: 0 0.25em; line-height: 1; border-radius: 0.35em;\">\n",
              "    Acme Corp.]Organization\n",
              "    <span style=\"font-size: 0.8em; font-weight: bold; line-height: 1; border-radius: 0.35em; text-transform: uppercase; vertical-align: middle; margin-left: 0.5rem\">WORK_OF_ART</span>\n",
              "</mark>\n",
              " in [\n",
              "<mark class=\"entity\" style=\"background: #e4e7d2; padding: 0.45em 0.6em; margin: 0 0.25em; line-height: 1; border-radius: 0.35em;\">\n",
              "    2006]Time\n",
              "    <span style=\"font-size: 0.8em; font-weight: bold; line-height: 1; border-radius: 0.35em; text-transform: uppercase; vertical-align: middle; margin-left: 0.5rem\">CARDINAL</span>\n",
              "</mark>\n",
              ". In this example, a person name consisting     of \n",
              "<mark class=\"entity\" style=\"background: #e4e7d2; padding: 0.45em 0.6em; margin: 0 0.25em; line-height: 1; border-radius: 0.35em;\">\n",
              "    one\n",
              "    <span style=\"font-size: 0.8em; font-weight: bold; line-height: 1; border-radius: 0.35em; text-transform: uppercase; vertical-align: middle; margin-left: 0.5rem\">CARDINAL</span>\n",
              "</mark>\n",
              " token, a \n",
              "<mark class=\"entity\" style=\"background: #e4e7d2; padding: 0.45em 0.6em; margin: 0 0.25em; line-height: 1; border-radius: 0.35em;\">\n",
              "    two\n",
              "    <span style=\"font-size: 0.8em; font-weight: bold; line-height: 1; border-radius: 0.35em; text-transform: uppercase; vertical-align: middle; margin-left: 0.5rem\">CARDINAL</span>\n",
              "</mark>\n",
              "-token company name and a temporal expression have been detected     and classified.State-of-the-art \n",
              "<mark class=\"entity\" style=\"background: #7aecec; padding: 0.45em 0.6em; margin: 0 0.25em; line-height: 1; border-radius: 0.35em;\">\n",
              "    NER\n",
              "    <span style=\"font-size: 0.8em; font-weight: bold; line-height: 1; border-radius: 0.35em; text-transform: uppercase; vertical-align: middle; margin-left: 0.5rem\">ORG</span>\n",
              "</mark>\n",
              " systems for \n",
              "<mark class=\"entity\" style=\"background: #ff8197; padding: 0.45em 0.6em; margin: 0 0.25em; line-height: 1; border-radius: 0.35em;\">\n",
              "    English\n",
              "    <span style=\"font-size: 0.8em; font-weight: bold; line-height: 1; border-radius: 0.35em; text-transform: uppercase; vertical-align: middle; margin-left: 0.5rem\">LANGUAGE</span>\n",
              "</mark>\n",
              " produce near-human performance.     For example, the best system entering \n",
              "<mark class=\"entity\" style=\"background: #e4e7d2; padding: 0.45em 0.6em; margin: 0 0.25em; line-height: 1; border-radius: 0.35em;\">\n",
              "    MUC-7\n",
              "    <span style=\"font-size: 0.8em; font-weight: bold; line-height: 1; border-radius: 0.35em; text-transform: uppercase; vertical-align: middle; margin-left: 0.5rem\">CARDINAL</span>\n",
              "</mark>\n",
              " scored \n",
              "<mark class=\"entity\" style=\"background: #e4e7d2; padding: 0.45em 0.6em; margin: 0 0.25em; line-height: 1; border-radius: 0.35em;\">\n",
              "    93.39%\n",
              "    <span style=\"font-size: 0.8em; font-weight: bold; line-height: 1; border-radius: 0.35em; text-transform: uppercase; vertical-align: middle; margin-left: 0.5rem\">PERCENT</span>\n",
              "</mark>\n",
              " of F-measure while human     annotators scored \n",
              "<mark class=\"entity\" style=\"background: #e4e7d2; padding: 0.45em 0.6em; margin: 0 0.25em; line-height: 1; border-radius: 0.35em;\">\n",
              "    97.60%\n",
              "    <span style=\"font-size: 0.8em; font-weight: bold; line-height: 1; border-radius: 0.35em; text-transform: uppercase; vertical-align: middle; margin-left: 0.5rem\">PERCENT</span>\n",
              "</mark>\n",
              " and 96.95%.[1][2]</div></span>"
            ],
            "text/plain": [
              "<IPython.core.display.HTML object>"
            ]
          },
          "metadata": {
            "tags": []
          }
        }
      ]
    },
    {
      "cell_type": "code",
      "metadata": {
        "colab": {
          "base_uri": "https://localhost:8080/",
          "height": 824
        },
        "id": "IMbTKrNRTLqf",
        "outputId": "07104be2-a324-484d-f884-339a0ef9bb1f"
      },
      "source": [
        "results"
      ],
      "execution_count": null,
      "outputs": [
        {
          "output_type": "execute_result",
          "data": {
            "text/html": [
              "<div>\n",
              "<style scoped>\n",
              "    .dataframe tbody tr th:only-of-type {\n",
              "        vertical-align: middle;\n",
              "    }\n",
              "\n",
              "    .dataframe tbody tr th {\n",
              "        vertical-align: top;\n",
              "    }\n",
              "\n",
              "    .dataframe thead th {\n",
              "        text-align: right;\n",
              "    }\n",
              "</style>\n",
              "<table border=\"1\" class=\"dataframe\">\n",
              "  <thead>\n",
              "    <tr style=\"text-align: right;\">\n",
              "      <th></th>\n",
              "      <th>with_add_lstm</th>\n",
              "    </tr>\n",
              "  </thead>\n",
              "  <tbody>\n",
              "    <tr>\n",
              "      <th>0</th>\n",
              "      <td>1.193699</td>\n",
              "    </tr>\n",
              "    <tr>\n",
              "      <th>1</th>\n",
              "      <td>0.320686</td>\n",
              "    </tr>\n",
              "    <tr>\n",
              "      <th>2</th>\n",
              "      <td>0.270461</td>\n",
              "    </tr>\n",
              "    <tr>\n",
              "      <th>3</th>\n",
              "      <td>0.245851</td>\n",
              "    </tr>\n",
              "    <tr>\n",
              "      <th>4</th>\n",
              "      <td>0.233949</td>\n",
              "    </tr>\n",
              "    <tr>\n",
              "      <th>5</th>\n",
              "      <td>0.211679</td>\n",
              "    </tr>\n",
              "    <tr>\n",
              "      <th>6</th>\n",
              "      <td>0.179673</td>\n",
              "    </tr>\n",
              "    <tr>\n",
              "      <th>7</th>\n",
              "      <td>0.172501</td>\n",
              "    </tr>\n",
              "    <tr>\n",
              "      <th>8</th>\n",
              "      <td>0.169850</td>\n",
              "    </tr>\n",
              "    <tr>\n",
              "      <th>9</th>\n",
              "      <td>0.188695</td>\n",
              "    </tr>\n",
              "    <tr>\n",
              "      <th>10</th>\n",
              "      <td>0.162009</td>\n",
              "    </tr>\n",
              "    <tr>\n",
              "      <th>11</th>\n",
              "      <td>0.160361</td>\n",
              "    </tr>\n",
              "    <tr>\n",
              "      <th>12</th>\n",
              "      <td>0.151362</td>\n",
              "    </tr>\n",
              "    <tr>\n",
              "      <th>13</th>\n",
              "      <td>0.144636</td>\n",
              "    </tr>\n",
              "    <tr>\n",
              "      <th>14</th>\n",
              "      <td>0.140593</td>\n",
              "    </tr>\n",
              "    <tr>\n",
              "      <th>15</th>\n",
              "      <td>0.144830</td>\n",
              "    </tr>\n",
              "    <tr>\n",
              "      <th>16</th>\n",
              "      <td>0.146329</td>\n",
              "    </tr>\n",
              "    <tr>\n",
              "      <th>17</th>\n",
              "      <td>0.133422</td>\n",
              "    </tr>\n",
              "    <tr>\n",
              "      <th>18</th>\n",
              "      <td>0.129680</td>\n",
              "    </tr>\n",
              "    <tr>\n",
              "      <th>19</th>\n",
              "      <td>0.127511</td>\n",
              "    </tr>\n",
              "    <tr>\n",
              "      <th>20</th>\n",
              "      <td>0.125923</td>\n",
              "    </tr>\n",
              "    <tr>\n",
              "      <th>21</th>\n",
              "      <td>0.123100</td>\n",
              "    </tr>\n",
              "    <tr>\n",
              "      <th>22</th>\n",
              "      <td>0.121538</td>\n",
              "    </tr>\n",
              "    <tr>\n",
              "      <th>23</th>\n",
              "      <td>0.120625</td>\n",
              "    </tr>\n",
              "    <tr>\n",
              "      <th>24</th>\n",
              "      <td>0.117318</td>\n",
              "    </tr>\n",
              "  </tbody>\n",
              "</table>\n",
              "</div>"
            ],
            "text/plain": [
              "    with_add_lstm\n",
              "0        1.193699\n",
              "1        0.320686\n",
              "2        0.270461\n",
              "3        0.245851\n",
              "4        0.233949\n",
              "5        0.211679\n",
              "6        0.179673\n",
              "7        0.172501\n",
              "8        0.169850\n",
              "9        0.188695\n",
              "10       0.162009\n",
              "11       0.160361\n",
              "12       0.151362\n",
              "13       0.144636\n",
              "14       0.140593\n",
              "15       0.144830\n",
              "16       0.146329\n",
              "17       0.133422\n",
              "18       0.129680\n",
              "19       0.127511\n",
              "20       0.125923\n",
              "21       0.123100\n",
              "22       0.121538\n",
              "23       0.120625\n",
              "24       0.117318"
            ]
          },
          "metadata": {
            "tags": []
          },
          "execution_count": 31
        }
      ]
    },
    {
      "cell_type": "code",
      "metadata": {
        "id": "RyPV3NyTULgz"
      },
      "source": [
        "from keras.models import load_model\r\n",
        "\r\n",
        "model = load_model('my.h5')\r\n",
        "\r\n",
        "#make predictions\r\n",
        "\r\n",
        "yhat=model.predict(val_tokens,verbose=0)"
      ],
      "execution_count": null,
      "outputs": []
    },
    {
      "cell_type": "code",
      "metadata": {
        "colab": {
          "base_uri": "https://localhost:8080/"
        },
        "id": "DtDzYN8NVZSW",
        "outputId": "e6f8b6ba-f22d-42d6-f8de-ff15cdeed8d8"
      },
      "source": [
        "yhat[0] == val_tags[0]"
      ],
      "execution_count": null,
      "outputs": [
        {
          "output_type": "execute_result",
          "data": {
            "text/plain": [
              "array([[ True,  True,  True, ...,  True,  True,  True],\n",
              "       [ True,  True,  True, ...,  True,  True,  True],\n",
              "       [ True,  True,  True, ...,  True,  True,  True],\n",
              "       ...,\n",
              "       [ True,  True,  True, ...,  True,  True,  True],\n",
              "       [ True,  True,  True, ...,  True,  True,  True],\n",
              "       [ True,  True,  True, ...,  True,  True,  True]])"
            ]
          },
          "metadata": {
            "tags": []
          },
          "execution_count": 43
        }
      ]
    },
    {
      "cell_type": "code",
      "metadata": {
        "colab": {
          "base_uri": "https://localhost:8080/"
        },
        "id": "YsdZGnqZVta8",
        "outputId": "a427c1e3-f25e-4839-de95-92ec84d1fdf5"
      },
      "source": [
        ""
      ],
      "execution_count": null,
      "outputs": [
        {
          "output_type": "execute_result",
          "data": {
            "text/plain": [
              "array([[0., 0., 0., ..., 0., 0., 0.],\n",
              "       [0., 0., 0., ..., 0., 0., 0.],\n",
              "       [0., 0., 0., ..., 0., 0., 0.],\n",
              "       ...,\n",
              "       [0., 0., 0., ..., 0., 0., 0.],\n",
              "       [0., 0., 0., ..., 0., 0., 0.],\n",
              "       [0., 0., 0., ..., 0., 0., 0.]], dtype=float32)"
            ]
          },
          "metadata": {
            "tags": []
          },
          "execution_count": 39
        }
      ]
    },
    {
      "cell_type": "code",
      "metadata": {
        "id": "-Qzb__7GVxVi"
      },
      "source": [
        ""
      ],
      "execution_count": null,
      "outputs": []
    }
  ]
}